{
 "cells": [
  {
   "cell_type": "code",
   "execution_count": null,
   "id": "fefe2248",
   "metadata": {},
   "outputs": [],
   "source": [
    "#Bibin Chacko 8925\n",
    "#Anna George 8941\n",
    "#Dhananjay Nair 8958\n",
    "#TE COMPS B Mini Project"
   ]
  },
  {
   "cell_type": "code",
   "execution_count": 1,
   "id": "f959642c",
   "metadata": {},
   "outputs": [],
   "source": [
    "import os\n",
    "import shutil\n",
    "import glob\n",
    "from tqdm import tqdm"
   ]
  },
  {
   "cell_type": "code",
   "execution_count": 2,
   "id": "1ddd3e3d",
   "metadata": {},
   "outputs": [
    {
     "name": "stderr",
     "output_type": "stream",
     "text": [
      "0it [00:00, ?it/s]\n",
      "100%|██████████| 3242/3242 [00:35<00:00, 91.08it/s] \n",
      "100%|██████████| 1114/1114 [00:11<00:00, 95.84it/s] \n",
      "100%|██████████| 679/679 [00:07<00:00, 91.61it/s] \n",
      "100%|██████████| 1069/1069 [00:11<00:00, 97.04it/s] \n",
      "100%|██████████| 736/736 [00:07<00:00, 93.87it/s] \n",
      "100%|██████████| 1012/1012 [00:11<00:00, 89.13it/s]\n",
      "100%|██████████| 624/624 [00:06<00:00, 95.69it/s] \n",
      "100%|██████████| 832/832 [00:08<00:00, 95.23it/s] \n",
      "100%|██████████| 387/387 [00:04<00:00, 89.52it/s] \n",
      "100%|██████████| 399/399 [00:04<00:00, 93.03it/s] \n",
      "100%|██████████| 1648/1648 [00:17<00:00, 93.89it/s] \n",
      "100%|██████████| 8728/8728 [01:36<00:00, 90.13it/s] \n",
      "100%|██████████| 3605/3605 [00:39<00:00, 90.43it/s] \n",
      "100%|██████████| 8884/8884 [01:49<00:00, 80.86it/s] \n",
      "100%|██████████| 1132/1132 [00:18<00:00, 62.42it/s]\n",
      "100%|██████████| 1889/1889 [00:20<00:00, 93.48it/s] \n",
      "100%|██████████| 1648/1648 [00:18<00:00, 91.54it/s] \n",
      "100%|██████████| 4410/4410 [00:48<00:00, 90.42it/s] \n",
      "100%|██████████| 6175/6175 [01:12<00:00, 84.79it/s] \n",
      "100%|██████████| 704/704 [00:09<00:00, 78.07it/s]\n",
      "100%|██████████| 987/987 [00:11<00:00, 83.84it/s] \n",
      "100%|██████████| 382/382 [00:04<00:00, 78.10it/s]\n",
      "100%|██████████| 522/522 [00:06<00:00, 81.31it/s]\n",
      "100%|██████████| 752/752 [00:09<00:00, 82.67it/s] \n",
      "100%|██████████| 1502/1502 [00:18<00:00, 79.71it/s]\n",
      "100%|██████████| 1246/1246 [00:14<00:00, 85.02it/s]\n",
      "100%|██████████| 665/665 [00:08<00:00, 80.05it/s]\n",
      "100%|██████████| 736/736 [00:09<00:00, 77.72it/s]\n",
      "100%|██████████| 1393/1393 [00:17<00:00, 81.87it/s]\n",
      "100%|██████████| 1384/1384 [00:16<00:00, 83.47it/s]\n",
      "100%|██████████| 1738/1738 [00:21<00:00, 80.31it/s] \n",
      "100%|██████████| 6162/6162 [01:19<00:00, 77.31it/s]\n",
      "100%|██████████| 681/681 [00:08<00:00, 78.48it/s]\n",
      "100%|██████████| 739/739 [00:09<00:00, 78.62it/s]\n",
      "100%|██████████| 642/642 [00:07<00:00, 80.99it/s]\n",
      "100%|██████████| 6193/6193 [01:13<00:00, 84.21it/s] \n",
      "100%|██████████| 10257/10257 [01:55<00:00, 88.92it/s]\n"
     ]
    }
   ],
   "source": [
    "Raw_DIR= r'C:\\Mini_Project\\mrlEyes_2018_01'\n",
    "for dirpath, dirname, filenames in os.walk(Raw_DIR):\n",
    "    for i in tqdm([f for f in filenames if f.endswith('.png')]):\n",
    "        if i.split('_')[4]=='0':\n",
    "            shutil.copy(src=dirpath+'/'+i, dst=r'C:\\Mini_Project\\Prepared Data\\Close Eyes')\n",
    "        \n",
    "        elif i.split('_')[4]=='1':\n",
    "            shutil.copy(src=dirpath+'/'+i, dst=r'C:\\Mini_Project\\Prepared Data\\Open Eyes')\n",
    "            "
   ]
  },
  {
   "cell_type": "code",
   "execution_count": null,
   "id": "f5e54e04",
   "metadata": {},
   "outputs": [],
   "source": []
  },
  {
   "cell_type": "code",
   "execution_count": null,
   "id": "d0f2056b",
   "metadata": {},
   "outputs": [],
   "source": []
  }
 ],
 "metadata": {
  "kernelspec": {
   "display_name": "Python 3",
   "language": "python",
   "name": "python3"
  },
  "language_info": {
   "codemirror_mode": {
    "name": "ipython",
    "version": 3
   },
   "file_extension": ".py",
   "mimetype": "text/x-python",
   "name": "python",
   "nbconvert_exporter": "python",
   "pygments_lexer": "ipython3",
   "version": "3.6.13"
  }
 },
 "nbformat": 4,
 "nbformat_minor": 5
}
